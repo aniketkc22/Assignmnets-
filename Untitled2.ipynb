{
 "cells": [
  {
   "cell_type": "code",
   "execution_count": 1,
   "id": "8dcbc6f2-bb2b-4fd4-a2b9-2322ea074e60",
   "metadata": {},
   "outputs": [],
   "source": [
    "1.\n",
    "s={\"python\",\"abc\",\"coding\"}\n",
    "l=[\"aniket\",12,24.25,\"i will do it\"]\n",
    "f=2.56\n",
    "t=(1,2,78,\"data science\")\n"
   ]
  },
  {
   "cell_type": "code",
   "execution_count": 2,
   "id": "667e608c-e673-48a5-9429-2f2626ee2b85",
   "metadata": {},
   "outputs": [
    {
     "ename": "NameError",
     "evalue": "name 'i' is not defined",
     "output_type": "error",
     "traceback": [
      "\u001b[0;31m---------------------------------------------------------------------------\u001b[0m",
      "\u001b[0;31mNameError\u001b[0m                                 Traceback (most recent call last)",
      "Cell \u001b[0;32mIn[2], line 2\u001b[0m\n\u001b[1;32m      1\u001b[0m \u001b[38;5;241m2.\u001b[39m\n\u001b[0;32m----> 2\u001b[0m \u001b[43mi\u001b[49m\u001b[38;5;241m.\u001b[39mstring\n\u001b[1;32m      3\u001b[0m ii\u001b[38;5;241m.\u001b[39mstring\n\u001b[1;32m      4\u001b[0m iii\u001b[38;5;241m.\u001b[39mlist\n",
      "\u001b[0;31mNameError\u001b[0m: name 'i' is not defined"
     ]
    }
   ],
   "source": [
    "2.\n",
    "i.string\n",
    "ii.string\n",
    "iii.list\n",
    "iv.int "
   ]
  },
  {
   "cell_type": "code",
   "execution_count": 3,
   "id": "65eaeaa8-1c55-4b7a-874f-cc5d6ff7043d",
   "metadata": {},
   "outputs": [
    {
     "ename": "SyntaxError",
     "evalue": "invalid syntax (3936982572.py, line 2)",
     "output_type": "error",
     "traceback": [
      "\u001b[0;36m  Cell \u001b[0;32mIn[3], line 2\u001b[0;36m\u001b[0m\n\u001b[0;31m    i.Division , it is use to get the quotient when a number is divided by other.\u001b[0m\n\u001b[0m                           ^\u001b[0m\n\u001b[0;31mSyntaxError\u001b[0m\u001b[0;31m:\u001b[0m invalid syntax\n"
     ]
    }
   ],
   "source": [
    "3.\n",
    "i.Division , it is use to get the quotient when a number is divided by other.\n",
    "ex. 45/9(output will be 5 as qoutient)\n",
    "ii.Remainder , it is used to get the remainder when a number is divided by the other\n",
    "ex. 46%9 will give 1 as output as 1 is the remainder \n",
    "iii.Floor Division , it rounds the result to nearest whole number\n",
    "ex. 46//9 will give 5 as output\n",
    "iv.exponentiation ,it raises power to the base \n",
    "ex.3**4==81\n"
   ]
  },
  {
   "cell_type": "code",
   "execution_count": 7,
   "id": "88e5ba9d-85cf-4a96-ad13-0a5dafd8db35",
   "metadata": {},
   "outputs": [
    {
     "name": "stdout",
     "output_type": "stream",
     "text": [
      "1\n",
      "<class 'int'>\n",
      "2\n",
      "<class 'int'>\n",
      "aniket\n",
      "<class 'str'>\n",
      "4.23\n",
      "<class 'float'>\n",
      "5\n",
      "<class 'int'>\n",
      "6\n",
      "<class 'int'>\n",
      "7\n",
      "<class 'int'>\n",
      "8\n",
      "<class 'int'>\n",
      "9\n",
      "<class 'int'>\n",
      "10\n",
      "<class 'int'>\n"
     ]
    }
   ],
   "source": [
    "4.\n",
    "l=[1,2,\"aniket\",4.23,5,6,7,8,9,10]\n",
    "for i in l :\n",
    "    print  (i)\n",
    "    print (type(i))"
   ]
  },
  {
   "cell_type": "code",
   "execution_count": 6,
   "id": "503d3baf-fa01-46de-9360-676083959736",
   "metadata": {},
   "outputs": [
    {
     "name": "stdout",
     "output_type": "stream",
     "text": [
      "1\n",
      "not divisible by 3\n",
      "2\n",
      "not divisible by 3\n",
      "3\n",
      "dividible by 3\n",
      "4\n",
      "not divisible by 3\n",
      "5\n",
      "not divisible by 3\n",
      "6\n",
      "dividible by 3\n",
      "7\n",
      "not divisible by 3\n",
      "8\n",
      "not divisible by 3\n",
      "9\n",
      "dividible by 3\n",
      "10\n",
      "not divisible by 3\n",
      "11\n",
      "not divisible by 3\n",
      "12\n",
      "dividible by 3\n",
      "13\n",
      "not divisible by 3\n",
      "14\n",
      "not divisible by 3\n",
      "15\n",
      "dividible by 3\n",
      "16\n",
      "not divisible by 3\n",
      "17\n",
      "not divisible by 3\n",
      "18\n",
      "dividible by 3\n",
      "19\n",
      "not divisible by 3\n",
      "20\n",
      "not divisible by 3\n",
      "21\n",
      "dividible by 3\n",
      "22\n",
      "not divisible by 3\n",
      "23\n",
      "not divisible by 3\n",
      "24\n",
      "dividible by 3\n",
      "25\n",
      "not divisible by 3\n"
     ]
    }
   ],
   "source": [
    "6.\n",
    "l=[1,2,3,4,5,6,7,8,9,10,11,12,13,14,15,16,17,18,19,20,21,22,23,24,25]\n",
    "for i in l : \n",
    "    if i%3==0:\n",
    "        print (i)\n",
    "        print (\"dividible by 3\")\n",
    "    elif i%3!=0:\n",
    "            print (i)\n",
    "            print (\"not divisible by 3\")"
   ]
  },
  {
   "cell_type": "code",
   "execution_count": 11,
   "id": "9b43105b-7347-4164-ad3a-8e8e64192425",
   "metadata": {},
   "outputs": [
    {
     "name": "stdin",
     "output_type": "stream",
     "text": [
      " 12\n",
      " 9\n"
     ]
    },
    {
     "name": "stdout",
     "output_type": "stream",
     "text": [
      "not purely divisible\n"
     ]
    }
   ],
   "source": [
    "5.\n",
    "a=int (input ())\n",
    "b=int (input())\n",
    "if a%b==0:\n",
    "    print (a/b)\n",
    "else:\n",
    "        print (\"not purely divisible\")"
   ]
  },
  {
   "cell_type": "code",
   "execution_count": null,
   "id": "6e6aa5c4-fcd7-4dda-9114-cdf9124be8fb",
   "metadata": {},
   "outputs": [],
   "source": [
    "7.Mutable objects are those that allow to change their value in place without affecting the object's identity\n",
    "Immutable are those whose value cannot be chnged.\n",
    "ex. list , sets , dictionaries are mutable \n",
    "numbers , booleans , tuples are immutable "
   ]
  }
 ],
 "metadata": {
  "kernelspec": {
   "display_name": "Python 3 (ipykernel)",
   "language": "python",
   "name": "python3"
  },
  "language_info": {
   "codemirror_mode": {
    "name": "ipython",
    "version": 3
   },
   "file_extension": ".py",
   "mimetype": "text/x-python",
   "name": "python",
   "nbconvert_exporter": "python",
   "pygments_lexer": "ipython3",
   "version": "3.10.8"
  }
 },
 "nbformat": 4,
 "nbformat_minor": 5
}
